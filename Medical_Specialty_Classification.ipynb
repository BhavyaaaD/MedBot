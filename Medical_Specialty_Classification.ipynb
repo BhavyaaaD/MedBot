{
  "metadata": {
    "kernelspec": {
      "language": "python",
      "display_name": "Python 3",
      "name": "python3"
    },
    "language_info": {
      "pygments_lexer": "ipython3",
      "nbconvert_exporter": "python",
      "version": "3.6.4",
      "file_extension": ".py",
      "codemirror_mode": {
        "name": "ipython",
        "version": 3
      },
      "name": "python",
      "mimetype": "text/x-python"
    },
    "colab": {
      "provenance": [],
      "include_colab_link": true
    }
  },
  "nbformat_minor": 0,
  "nbformat": 4,
  "cells": [
    {
      "cell_type": "markdown",
      "metadata": {
        "id": "view-in-github",
        "colab_type": "text"
      },
      "source": [
        "<a href=\"https://colab.research.google.com/github/BhavyaaaD/MedBot/blob/main/Medical_Specialty_Classification.ipynb\" target=\"_parent\"><img src=\"https://colab.research.google.com/assets/colab-badge.svg\" alt=\"Open In Colab\"/></a>"
      ]
    },
    {
      "source": [
        "\n",
        "import os\n",
        "import sys\n",
        "from tempfile import NamedTemporaryFile\n",
        "from urllib.request import urlopen\n",
        "from urllib.parse import unquote, urlparse\n",
        "from urllib.error import HTTPError\n",
        "from zipfile import ZipFile\n",
        "import tarfile\n",
        "import shutil"
      ],
      "metadata": {
        "id": "ny03LSnYF08T"
      },
      "cell_type": "code",
      "outputs": [],
      "execution_count": null
    },
    {
      "cell_type": "code",
      "source": [
        "!pip install nlpaug"
      ],
      "metadata": {
        "id": "YFPp23fvF08Y"
      },
      "execution_count": null,
      "outputs": []
    },
    {
      "cell_type": "code",
      "source": [
        "import pandas as pd\n",
        "import numpy as np\n",
        "import nltk\n",
        "from nltk.corpus import wordnet\n",
        "nltk.download('wordnet')\n",
        "\n",
        "#plot\n",
        "import matplotlib.pyplot as plt\n",
        "import seaborn as sns\n"
      ],
      "metadata": {
        "execution": {
          "iopub.status.busy": "2022-06-22T04:09:39.069178Z",
          "iopub.execute_input": "2022-06-22T04:09:39.069476Z",
          "iopub.status.idle": "2022-06-22T04:09:39.07484Z",
          "shell.execute_reply.started": "2022-06-22T04:09:39.069451Z",
          "shell.execute_reply": "2022-06-22T04:09:39.073897Z"
        },
        "trusted": true,
        "id": "LwH84lfUF08Z"
      },
      "execution_count": null,
      "outputs": []
    },
    {
      "cell_type": "code",
      "source": [
        "import nlpaug.augmenter.char as nac\n",
        "import nlpaug.augmenter.word as naw\n",
        "import nlpaug.augmenter.sentence as nas\n",
        "import nlpaug.flow as naf\n",
        "\n",
        "from nlpaug.util import Action"
      ],
      "metadata": {
        "execution": {
          "iopub.status.busy": "2022-06-22T04:09:39.076044Z",
          "iopub.execute_input": "2022-06-22T04:09:39.076351Z",
          "iopub.status.idle": "2022-06-22T04:09:39.090954Z",
          "shell.execute_reply.started": "2022-06-22T04:09:39.076314Z",
          "shell.execute_reply": "2022-06-22T04:09:39.090064Z"
        },
        "trusted": true,
        "id": "Hs8t2dRFF08a"
      },
      "execution_count": null,
      "outputs": []
    },
    {
      "cell_type": "markdown",
      "source": [
        "## Data import and prepocessing"
      ],
      "metadata": {
        "id": "UjAGoIVjF08a"
      }
    },
    {
      "cell_type": "code",
      "source": [
        "medical_data = pd.read_csv(\"../input/medical-specialty-classification/Train.csv\")\n",
        "medical_data"
      ],
      "metadata": {
        "execution": {
          "iopub.status.busy": "2022-06-22T04:09:39.092753Z",
          "iopub.execute_input": "2022-06-22T04:09:39.093082Z",
          "iopub.status.idle": "2022-06-22T04:09:39.197668Z",
          "shell.execute_reply.started": "2022-06-22T04:09:39.093051Z",
          "shell.execute_reply": "2022-06-22T04:09:39.196709Z"
        },
        "trusted": true,
        "id": "JElIamuSF08a"
      },
      "execution_count": null,
      "outputs": []
    },
    {
      "cell_type": "code",
      "source": [
        "round(100*(medical_data.isnull().sum()/len(medical_data.index)),2)"
      ],
      "metadata": {
        "execution": {
          "iopub.status.busy": "2022-06-22T04:09:39.198759Z",
          "iopub.execute_input": "2022-06-22T04:09:39.199073Z",
          "iopub.status.idle": "2022-06-22T04:09:39.21153Z",
          "shell.execute_reply.started": "2022-06-22T04:09:39.199045Z",
          "shell.execute_reply": "2022-06-22T04:09:39.210645Z"
        },
        "trusted": true,
        "id": "E5xqEe8FF08b"
      },
      "execution_count": null,
      "outputs": []
    },
    {
      "cell_type": "code",
      "source": [
        "medical_data = medical_data.loc[:, medical_data.isnull().mean() < .99]\n",
        "medical_data = medical_data.drop(medical_data.index[12])"
      ],
      "metadata": {
        "execution": {
          "iopub.status.busy": "2022-06-22T04:09:39.212402Z",
          "iopub.execute_input": "2022-06-22T04:09:39.212609Z",
          "iopub.status.idle": "2022-06-22T04:09:39.227281Z",
          "shell.execute_reply.started": "2022-06-22T04:09:39.212587Z",
          "shell.execute_reply": "2022-06-22T04:09:39.226509Z"
        },
        "trusted": true,
        "id": "i4KI0ITaF08b"
      },
      "execution_count": null,
      "outputs": []
    },
    {
      "cell_type": "markdown",
      "source": [
        "## medical_data.isnull().sum(axis=0)"
      ],
      "metadata": {
        "execution": {
          "iopub.status.busy": "2022-06-21T21:01:58.835069Z",
          "iopub.execute_input": "2022-06-21T21:01:58.835576Z",
          "iopub.status.idle": "2022-06-21T21:01:58.852045Z",
          "shell.execute_reply.started": "2022-06-21T21:01:58.835544Z",
          "shell.execute_reply": "2022-06-21T21:01:58.851143Z"
        },
        "id": "W0vOtIzbF08b"
      }
    },
    {
      "cell_type": "code",
      "source": [
        "round(100*(medical_data.isnull().sum()/len(medical_data.index)),2)"
      ],
      "metadata": {
        "execution": {
          "iopub.status.busy": "2022-06-22T04:09:39.228169Z",
          "iopub.execute_input": "2022-06-22T04:09:39.228431Z",
          "iopub.status.idle": "2022-06-22T04:09:39.244899Z",
          "shell.execute_reply.started": "2022-06-22T04:09:39.228409Z",
          "shell.execute_reply": "2022-06-22T04:09:39.244251Z"
        },
        "trusted": true,
        "id": "PB2PX-BGF08c"
      },
      "execution_count": null,
      "outputs": []
    },
    {
      "cell_type": "code",
      "source": [
        "medical_data = medical_data[medical_data['transcription'].notna()]"
      ],
      "metadata": {
        "execution": {
          "iopub.status.busy": "2022-06-22T04:09:39.245963Z",
          "iopub.execute_input": "2022-06-22T04:09:39.246268Z",
          "iopub.status.idle": "2022-06-22T04:09:39.257807Z",
          "shell.execute_reply.started": "2022-06-22T04:09:39.246238Z",
          "shell.execute_reply": "2022-06-22T04:09:39.257072Z"
        },
        "trusted": true,
        "id": "wkVqfJtSF08c"
      },
      "execution_count": null,
      "outputs": []
    },
    {
      "cell_type": "code",
      "source": [
        "round(100*(medical_data.isnull().sum()/len(medical_data.index)),2)"
      ],
      "metadata": {
        "execution": {
          "iopub.status.busy": "2022-06-22T04:09:39.258905Z",
          "iopub.execute_input": "2022-06-22T04:09:39.259655Z",
          "iopub.status.idle": "2022-06-22T04:09:39.277931Z",
          "shell.execute_reply.started": "2022-06-22T04:09:39.259627Z",
          "shell.execute_reply": "2022-06-22T04:09:39.277254Z"
        },
        "trusted": true,
        "id": "QVD51kpCF08c"
      },
      "execution_count": null,
      "outputs": []
    },
    {
      "cell_type": "code",
      "source": [
        "medical_data['medical_specialty'].unique()"
      ],
      "metadata": {
        "execution": {
          "iopub.status.busy": "2022-06-22T04:09:39.280114Z",
          "iopub.execute_input": "2022-06-22T04:09:39.280854Z",
          "iopub.status.idle": "2022-06-22T04:09:39.287085Z",
          "shell.execute_reply.started": "2022-06-22T04:09:39.280831Z",
          "shell.execute_reply": "2022-06-22T04:09:39.286389Z"
        },
        "trusted": true,
        "id": "LvumhRSPF08c"
      },
      "execution_count": null,
      "outputs": []
    },
    {
      "cell_type": "code",
      "source": [
        "medical_data.groupby('medical_specialty').count()['transcription'].reset_index()\n"
      ],
      "metadata": {
        "scrolled": true,
        "execution": {
          "iopub.status.busy": "2022-06-22T04:09:39.288529Z",
          "iopub.execute_input": "2022-06-22T04:09:39.288934Z",
          "iopub.status.idle": "2022-06-22T04:09:39.306248Z",
          "shell.execute_reply.started": "2022-06-22T04:09:39.288903Z",
          "shell.execute_reply": "2022-06-22T04:09:39.305236Z"
        },
        "trusted": true,
        "id": "z1c8rBy_F08c"
      },
      "execution_count": null,
      "outputs": []
    },
    {
      "cell_type": "code",
      "source": [
        "medical_data = medical_data.groupby('medical_specialty').filter(lambda x : len(x)>20)\n"
      ],
      "metadata": {
        "execution": {
          "iopub.status.busy": "2022-06-22T04:09:39.307139Z",
          "iopub.execute_input": "2022-06-22T04:09:39.307685Z",
          "iopub.status.idle": "2022-06-22T04:09:39.31549Z",
          "shell.execute_reply.started": "2022-06-22T04:09:39.307655Z",
          "shell.execute_reply": "2022-06-22T04:09:39.314808Z"
        },
        "trusted": true,
        "id": "OWe3Z65LF08c"
      },
      "execution_count": null,
      "outputs": []
    },
    {
      "cell_type": "code",
      "source": [
        "label_count = medical_data.groupby('medical_specialty').count()['transcription'].reset_index()\n",
        "label_count"
      ],
      "metadata": {
        "execution": {
          "iopub.status.busy": "2022-06-22T04:09:39.316585Z",
          "iopub.execute_input": "2022-06-22T04:09:39.317235Z",
          "iopub.status.idle": "2022-06-22T04:09:39.330797Z",
          "shell.execute_reply.started": "2022-06-22T04:09:39.317178Z",
          "shell.execute_reply": "2022-06-22T04:09:39.330162Z"
        },
        "trusted": true,
        "id": "fRbGfMngF08d"
      },
      "execution_count": null,
      "outputs": []
    },
    {
      "cell_type": "code",
      "source": [
        "medical_data = medical_data[['transcription','medical_specialty']]\n"
      ],
      "metadata": {
        "execution": {
          "iopub.status.busy": "2022-06-22T04:09:39.331892Z",
          "iopub.execute_input": "2022-06-22T04:09:39.332367Z",
          "iopub.status.idle": "2022-06-22T04:09:39.338289Z",
          "shell.execute_reply.started": "2022-06-22T04:09:39.332337Z",
          "shell.execute_reply": "2022-06-22T04:09:39.33714Z"
        },
        "trusted": true,
        "id": "EWWng8_6F08d"
      },
      "execution_count": null,
      "outputs": []
    },
    {
      "cell_type": "code",
      "source": [
        "plt.figure(figsize=(20,8))\n",
        "x = medical_data.medical_specialty.value_counts()\n",
        "sns.barplot(x.index,x)\n",
        "#plt.tight_layout()\n",
        "plt.xticks(\n",
        "    rotation=45,\n",
        "    horizontalalignment='right',\n",
        "    fontweight='light',\n",
        "    fontsize='x-large'\n",
        ")\n",
        "plt.gca().set_ylabel('samples')"
      ],
      "metadata": {
        "execution": {
          "iopub.status.busy": "2022-06-22T04:13:18.717225Z",
          "iopub.execute_input": "2022-06-22T04:13:18.717613Z",
          "iopub.status.idle": "2022-06-22T04:13:19.067585Z",
          "shell.execute_reply.started": "2022-06-22T04:13:18.717583Z",
          "shell.execute_reply": "2022-06-22T04:13:19.066753Z"
        },
        "trusted": true,
        "id": "m3Z9YThqF08d"
      },
      "execution_count": null,
      "outputs": []
    },
    {
      "cell_type": "markdown",
      "source": [
        "## Data Augmentation"
      ],
      "metadata": {
        "id": "0CFjRvzfF08d"
      }
    },
    {
      "cell_type": "code",
      "source": [
        "aug = naw.SynonymAug(aug_src='wordnet',aug_max= 24)"
      ],
      "metadata": {
        "execution": {
          "iopub.status.busy": "2022-06-22T04:13:31.857672Z",
          "iopub.execute_input": "2022-06-22T04:13:31.858028Z",
          "iopub.status.idle": "2022-06-22T04:13:31.863455Z",
          "shell.execute_reply.started": "2022-06-22T04:13:31.858Z",
          "shell.execute_reply": "2022-06-22T04:13:31.862068Z"
        },
        "trusted": true,
        "id": "_umy6hj7F08d"
      },
      "execution_count": null,
      "outputs": []
    },
    {
      "cell_type": "code",
      "source": [
        "for i in range(0, len(label_count)-1):\n",
        "    aug_val = int(round(label_count.transcription.max() / label_count.transcription[i],0)) - 1\n",
        "    filtered_data = medical_data.loc[medical_data['medical_specialty'] == label_count.medical_specialty[i]]\n",
        "    for j in filtered_data.index:\n",
        "        temps=aug.augment(filtered_data.transcription[j],n=aug_val)\n",
        "        for sent in temps:\n",
        "            medical_data1 = {'transcription': sent, 'medical_specialty': label_count.medical_specialty[i]}\n",
        "            medical_data = medical_data.append(medical_data1, ignore_index = True)\n",
        "    #print(medical_data.shape)\n"
      ],
      "metadata": {
        "scrolled": true,
        "execution": {
          "iopub.status.busy": "2022-06-22T04:13:34.472784Z",
          "iopub.execute_input": "2022-06-22T04:13:34.473066Z",
          "iopub.status.idle": "2022-06-22T04:22:55.847199Z",
          "shell.execute_reply.started": "2022-06-22T04:13:34.473044Z",
          "shell.execute_reply": "2022-06-22T04:22:55.846444Z"
        },
        "trusted": true,
        "id": "teiGxJi0F08d"
      },
      "execution_count": null,
      "outputs": []
    },
    {
      "cell_type": "code",
      "source": [
        "medical_data.groupby('medical_specialty').count()['transcription'].reset_index()\n"
      ],
      "metadata": {
        "execution": {
          "iopub.status.busy": "2022-06-22T04:23:15.321747Z",
          "iopub.execute_input": "2022-06-22T04:23:15.322091Z",
          "iopub.status.idle": "2022-06-22T04:23:15.340681Z",
          "shell.execute_reply.started": "2022-06-22T04:23:15.322063Z",
          "shell.execute_reply": "2022-06-22T04:23:15.340228Z"
        },
        "trusted": true,
        "id": "E8yIUj9SF08d"
      },
      "execution_count": null,
      "outputs": []
    },
    {
      "cell_type": "code",
      "source": [
        "medical_data"
      ],
      "metadata": {
        "execution": {
          "iopub.status.busy": "2022-06-22T04:23:23.751859Z",
          "iopub.execute_input": "2022-06-22T04:23:23.752154Z",
          "iopub.status.idle": "2022-06-22T04:23:23.76317Z",
          "shell.execute_reply.started": "2022-06-22T04:23:23.752131Z",
          "shell.execute_reply": "2022-06-22T04:23:23.762451Z"
        },
        "trusted": true,
        "id": "6vMXZxlVF08d"
      },
      "execution_count": null,
      "outputs": []
    },
    {
      "cell_type": "markdown",
      "source": [
        "## Text Preprocessing"
      ],
      "metadata": {
        "id": "bisxM5jqF08d"
      }
    },
    {
      "cell_type": "code",
      "source": [
        "import nltk\n",
        "nltk.download('stopwords')"
      ],
      "metadata": {
        "execution": {
          "iopub.status.busy": "2022-06-22T04:23:36.15793Z",
          "iopub.execute_input": "2022-06-22T04:23:36.158333Z",
          "iopub.status.idle": "2022-06-22T04:23:36.168906Z",
          "shell.execute_reply.started": "2022-06-22T04:23:36.158285Z",
          "shell.execute_reply": "2022-06-22T04:23:36.168382Z"
        },
        "trusted": true,
        "id": "FaaFAVZ7F08d"
      },
      "execution_count": null,
      "outputs": []
    },
    {
      "cell_type": "code",
      "source": [
        "import regex as re\n",
        "import string\n",
        "\n",
        "from nltk.corpus import stopwords\n",
        "STOPWORDS = set(stopwords.words('english'))"
      ],
      "metadata": {
        "execution": {
          "iopub.status.busy": "2022-06-22T04:24:06.781099Z",
          "iopub.execute_input": "2022-06-22T04:24:06.781424Z",
          "iopub.status.idle": "2022-06-22T04:24:06.788826Z",
          "shell.execute_reply.started": "2022-06-22T04:24:06.781401Z",
          "shell.execute_reply": "2022-06-22T04:24:06.788355Z"
        },
        "trusted": true,
        "id": "I3hAAWVNF08d"
      },
      "execution_count": null,
      "outputs": []
    },
    {
      "cell_type": "code",
      "source": [
        "def text_preprocessing(data):\n",
        "    data = str(data).lower()\n",
        "    data = re.sub('\\[.*?\\]', '', data)\n",
        "    data = re.sub('https?://\\S+|www\\.\\S+', '', data)\n",
        "    data = re.sub('<.*?>+', '', data)\n",
        "    data = re.sub('[%s]' % re.escape(string.punctuation), '', data)\n",
        "    data = re.sub('\\n', '', data)\n",
        "    data = re.sub('\\w*\\d\\w*', '', data)\n",
        "    return data"
      ],
      "metadata": {
        "execution": {
          "iopub.status.busy": "2022-06-22T04:24:10.325994Z",
          "iopub.execute_input": "2022-06-22T04:24:10.32641Z",
          "iopub.status.idle": "2022-06-22T04:24:10.330959Z",
          "shell.execute_reply.started": "2022-06-22T04:24:10.326386Z",
          "shell.execute_reply": "2022-06-22T04:24:10.330409Z"
        },
        "trusted": true,
        "id": "GQuxtfZWF08e"
      },
      "execution_count": null,
      "outputs": []
    },
    {
      "cell_type": "code",
      "source": [
        "def remove_stopwords(text):\n",
        "    return \" \".join([word for word in text.split() if word not in STOPWORDS])"
      ],
      "metadata": {
        "execution": {
          "iopub.status.busy": "2022-06-22T04:24:24.129654Z",
          "iopub.execute_input": "2022-06-22T04:24:24.12996Z",
          "iopub.status.idle": "2022-06-22T04:24:24.134475Z",
          "shell.execute_reply.started": "2022-06-22T04:24:24.129937Z",
          "shell.execute_reply": "2022-06-22T04:24:24.133728Z"
        },
        "trusted": true,
        "id": "0sjNUBodF08e"
      },
      "execution_count": null,
      "outputs": []
    },
    {
      "cell_type": "code",
      "source": [
        "medical_data[\"transcription\"] = medical_data[\"transcription\"].apply(lambda text: text_preprocessing(text))\n"
      ],
      "metadata": {
        "execution": {
          "iopub.status.busy": "2022-06-22T04:24:31.013486Z",
          "iopub.execute_input": "2022-06-22T04:24:31.014074Z",
          "iopub.status.idle": "2022-06-22T04:24:54.116052Z",
          "shell.execute_reply.started": "2022-06-22T04:24:31.014043Z",
          "shell.execute_reply": "2022-06-22T04:24:54.115142Z"
        },
        "trusted": true,
        "id": "vD-Iakr4F08e"
      },
      "execution_count": null,
      "outputs": []
    },
    {
      "cell_type": "code",
      "source": [
        "medical_data[\"transcription\"] = medical_data[\"transcription\"].apply(lambda text: remove_stopwords(text))\n"
      ],
      "metadata": {
        "execution": {
          "iopub.status.busy": "2022-06-22T04:24:58.014363Z",
          "iopub.execute_input": "2022-06-22T04:24:58.014737Z",
          "iopub.status.idle": "2022-06-22T04:24:59.917572Z",
          "shell.execute_reply.started": "2022-06-22T04:24:58.014706Z",
          "shell.execute_reply": "2022-06-22T04:24:59.916875Z"
        },
        "trusted": true,
        "id": "Wj6X25vPF08e"
      },
      "execution_count": null,
      "outputs": []
    },
    {
      "cell_type": "code",
      "source": [
        "medical_data['tr_word_count']= medical_data['transcription'].apply(lambda x: len(str(x).split(' ')))\n"
      ],
      "metadata": {
        "execution": {
          "iopub.status.busy": "2022-06-22T04:25:05.354877Z",
          "iopub.execute_input": "2022-06-22T04:25:05.355258Z",
          "iopub.status.idle": "2022-06-22T04:25:05.57357Z",
          "shell.execute_reply.started": "2022-06-22T04:25:05.355225Z",
          "shell.execute_reply": "2022-06-22T04:25:05.572902Z"
        },
        "trusted": true,
        "id": "4x7TG2S9F08e"
      },
      "execution_count": null,
      "outputs": []
    },
    {
      "cell_type": "code",
      "source": [
        "Y = pd.get_dummies(medical_data['medical_specialty']).values\n",
        "print('Shape of label tensor:', Y.shape)"
      ],
      "metadata": {
        "execution": {
          "iopub.status.busy": "2022-06-22T04:25:12.091863Z",
          "iopub.execute_input": "2022-06-22T04:25:12.09223Z",
          "iopub.status.idle": "2022-06-22T04:25:12.104451Z",
          "shell.execute_reply.started": "2022-06-22T04:25:12.092201Z",
          "shell.execute_reply": "2022-06-22T04:25:12.103962Z"
        },
        "trusted": true,
        "id": "rhQvwOIxF08e"
      },
      "execution_count": null,
      "outputs": []
    },
    {
      "cell_type": "code",
      "source": [
        "medical_data.hist(column = 'tr_word_count') #most of the transcription are in range of 400 words"
      ],
      "metadata": {
        "execution": {
          "iopub.status.busy": "2022-06-22T04:25:24.974477Z",
          "iopub.execute_input": "2022-06-22T04:25:24.974758Z",
          "iopub.status.idle": "2022-06-22T04:25:25.174003Z",
          "shell.execute_reply.started": "2022-06-22T04:25:24.974736Z",
          "shell.execute_reply": "2022-06-22T04:25:25.173219Z"
        },
        "trusted": true,
        "id": "KmSbpwGoF08e"
      },
      "execution_count": null,
      "outputs": []
    },
    {
      "cell_type": "code",
      "source": [
        "documents = []\n",
        "\n",
        "for doc in medical_data['transcription']:\n",
        "    documents.append(doc.split(' '))"
      ],
      "metadata": {
        "execution": {
          "iopub.status.busy": "2022-06-22T04:25:32.971235Z",
          "iopub.execute_input": "2022-06-22T04:25:32.971812Z",
          "iopub.status.idle": "2022-06-22T04:25:33.413349Z",
          "shell.execute_reply.started": "2022-06-22T04:25:32.971787Z",
          "shell.execute_reply": "2022-06-22T04:25:33.412626Z"
        },
        "trusted": true,
        "id": "tzYVnKlWF08e"
      },
      "execution_count": null,
      "outputs": []
    },
    {
      "cell_type": "code",
      "source": [
        "documents[10]"
      ],
      "metadata": {
        "execution": {
          "iopub.status.busy": "2022-06-22T04:25:35.375913Z",
          "iopub.execute_input": "2022-06-22T04:25:35.376437Z",
          "iopub.status.idle": "2022-06-22T04:25:35.384176Z",
          "shell.execute_reply.started": "2022-06-22T04:25:35.376405Z",
          "shell.execute_reply": "2022-06-22T04:25:35.383239Z"
        },
        "trusted": true,
        "id": "KgH5aPugF08e"
      },
      "execution_count": null,
      "outputs": []
    },
    {
      "cell_type": "markdown",
      "source": [
        "## Building word2Vec model"
      ],
      "metadata": {
        "id": "B4dauoYGF08f"
      }
    },
    {
      "cell_type": "code",
      "source": [
        "from gensim.models import Word2Vec"
      ],
      "metadata": {
        "execution": {
          "iopub.status.busy": "2022-06-22T04:25:39.139592Z",
          "iopub.execute_input": "2022-06-22T04:25:39.139956Z",
          "iopub.status.idle": "2022-06-22T04:25:39.144559Z",
          "shell.execute_reply.started": "2022-06-22T04:25:39.139925Z",
          "shell.execute_reply": "2022-06-22T04:25:39.143547Z"
        },
        "trusted": true,
        "id": "0sCsOrvPF08f"
      },
      "execution_count": null,
      "outputs": []
    },
    {
      "cell_type": "code",
      "source": [
        "# Training the Word2Vec model\n",
        "model = Word2Vec(documents, #Word list\n",
        "                   min_count=5, #Ignore all words with total frequency lower than this\n",
        "                   workers=4, #Number of CPUs\n",
        "                   vector_size=100,  #Embedding size\n",
        "                   window=5 #Maximum Distance between current and predicted word\n",
        "                  # iter=10   #Number of iterations over the text corpus\n",
        "                  )"
      ],
      "metadata": {
        "execution": {
          "iopub.status.busy": "2022-06-22T04:26:33.259345Z",
          "iopub.execute_input": "2022-06-22T04:26:33.259713Z",
          "iopub.status.idle": "2022-06-22T04:26:49.553817Z",
          "shell.execute_reply.started": "2022-06-22T04:26:33.259684Z",
          "shell.execute_reply": "2022-06-22T04:26:49.553322Z"
        },
        "trusted": true,
        "id": "WSxTgpDLF08j"
      },
      "execution_count": null,
      "outputs": []
    },
    {
      "cell_type": "code",
      "source": [
        "#How many words in the model and how many features\n",
        "model.wv.vectors.shape"
      ],
      "metadata": {
        "execution": {
          "iopub.status.busy": "2022-06-22T04:27:02.79929Z",
          "iopub.execute_input": "2022-06-22T04:27:02.799596Z",
          "iopub.status.idle": "2022-06-22T04:27:02.805403Z",
          "shell.execute_reply.started": "2022-06-22T04:27:02.799573Z",
          "shell.execute_reply": "2022-06-22T04:27:02.804435Z"
        },
        "trusted": true,
        "id": "grF2ZbRSF08j"
      },
      "execution_count": null,
      "outputs": []
    },
    {
      "cell_type": "code",
      "source": [
        "all_words = model.wv.index_to_key               #key_to_index\n",
        "top_words = model.wv.index_to_key[0:5]\n",
        "top_words"
      ],
      "metadata": {
        "execution": {
          "iopub.status.busy": "2022-06-22T04:31:02.498633Z",
          "iopub.execute_input": "2022-06-22T04:31:02.498959Z",
          "iopub.status.idle": "2022-06-22T04:31:02.5049Z",
          "shell.execute_reply.started": "2022-06-22T04:31:02.498935Z",
          "shell.execute_reply": "2022-06-22T04:31:02.503901Z"
        },
        "trusted": true,
        "id": "z1Bpq86IF08j"
      },
      "execution_count": null,
      "outputs": []
    },
    {
      "cell_type": "code",
      "source": [
        "print('Vocabulary size: %d' % len(all_words))"
      ],
      "metadata": {
        "execution": {
          "iopub.status.busy": "2022-06-22T04:31:05.162518Z",
          "iopub.execute_input": "2022-06-22T04:31:05.162874Z",
          "iopub.status.idle": "2022-06-22T04:31:05.167673Z",
          "shell.execute_reply.started": "2022-06-22T04:31:05.162846Z",
          "shell.execute_reply": "2022-06-22T04:31:05.167073Z"
        },
        "trusted": true,
        "id": "C6_jzXu8F08j"
      },
      "execution_count": null,
      "outputs": []
    },
    {
      "cell_type": "code",
      "source": [
        "# Finding Word Vectors\n",
        "vector = model.wv['mmode']\n",
        "vector"
      ],
      "metadata": {
        "execution": {
          "iopub.status.busy": "2022-06-22T04:31:09.675829Z",
          "iopub.execute_input": "2022-06-22T04:31:09.6761Z",
          "iopub.status.idle": "2022-06-22T04:31:09.682208Z",
          "shell.execute_reply.started": "2022-06-22T04:31:09.676078Z",
          "shell.execute_reply": "2022-06-22T04:31:09.681491Z"
        },
        "trusted": true,
        "id": "2CjJjJpcF08j"
      },
      "execution_count": null,
      "outputs": []
    },
    {
      "cell_type": "code",
      "source": [
        "# Most similar words\n",
        "similar = model.wv.most_similar('anesthetic')\n",
        "similar"
      ],
      "metadata": {
        "execution": {
          "iopub.status.busy": "2022-06-22T04:31:12.634563Z",
          "iopub.execute_input": "2022-06-22T04:31:12.63503Z",
          "iopub.status.idle": "2022-06-22T04:31:12.648085Z",
          "shell.execute_reply.started": "2022-06-22T04:31:12.635006Z",
          "shell.execute_reply": "2022-06-22T04:31:12.647358Z"
        },
        "trusted": true,
        "id": "VPAhlGLlF08j"
      },
      "execution_count": null,
      "outputs": []
    },
    {
      "cell_type": "markdown",
      "source": [
        "## Saving The model"
      ],
      "metadata": {
        "id": "H9D_vHGYF08j"
      }
    },
    {
      "cell_type": "code",
      "source": [
        "model.save(\"word2vec_Medical Specialty Classification\")"
      ],
      "metadata": {
        "execution": {
          "iopub.status.busy": "2022-06-22T04:31:18.767869Z",
          "iopub.execute_input": "2022-06-22T04:31:18.768237Z",
          "iopub.status.idle": "2022-06-22T04:31:18.799171Z",
          "shell.execute_reply.started": "2022-06-22T04:31:18.768208Z",
          "shell.execute_reply": "2022-06-22T04:31:18.798407Z"
        },
        "trusted": true,
        "id": "-sbfzvM1F08j"
      },
      "execution_count": null,
      "outputs": []
    },
    {
      "cell_type": "markdown",
      "source": [
        "## train test validation split"
      ],
      "metadata": {
        "id": "JNe3qSd7F08j"
      }
    },
    {
      "cell_type": "code",
      "source": [
        "from sklearn.model_selection import train_test_split"
      ],
      "metadata": {
        "execution": {
          "iopub.status.busy": "2022-06-22T04:31:21.179074Z",
          "iopub.execute_input": "2022-06-22T04:31:21.179985Z",
          "iopub.status.idle": "2022-06-22T04:31:21.183569Z",
          "shell.execute_reply.started": "2022-06-22T04:31:21.179959Z",
          "shell.execute_reply": "2022-06-22T04:31:21.183102Z"
        },
        "trusted": true,
        "id": "2MVJlCgUF08k"
      },
      "execution_count": null,
      "outputs": []
    },
    {
      "cell_type": "code",
      "source": [
        "X = medical_data['transcription']\n",
        "y = Y\n"
      ],
      "metadata": {
        "execution": {
          "iopub.status.busy": "2022-06-22T04:31:23.094056Z",
          "iopub.execute_input": "2022-06-22T04:31:23.094658Z",
          "iopub.status.idle": "2022-06-22T04:31:23.099142Z",
          "shell.execute_reply.started": "2022-06-22T04:31:23.094629Z",
          "shell.execute_reply": "2022-06-22T04:31:23.098651Z"
        },
        "trusted": true,
        "id": "V2kZD3-PF08k"
      },
      "execution_count": null,
      "outputs": []
    },
    {
      "cell_type": "code",
      "source": [
        "#train test validation split\n",
        "X_train, X_test, y_train, y_test = train_test_split(X, y, test_size=0.2, random_state=1, stratify = y)\n",
        "\n",
        "X_train, X_val, y_train, y_val = train_test_split(X_train, y_train, test_size=0.25, random_state=1, stratify = y_train)"
      ],
      "metadata": {
        "execution": {
          "iopub.status.busy": "2022-06-22T04:31:25.771345Z",
          "iopub.execute_input": "2022-06-22T04:31:25.771715Z",
          "iopub.status.idle": "2022-06-22T04:31:26.597201Z",
          "shell.execute_reply.started": "2022-06-22T04:31:25.771687Z",
          "shell.execute_reply": "2022-06-22T04:31:26.596607Z"
        },
        "trusted": true,
        "id": "rOHurOBkF08k"
      },
      "execution_count": null,
      "outputs": []
    },
    {
      "cell_type": "code",
      "source": [
        "print(X_train.shape)\n",
        "print(X_test.shape)\n",
        "print(y_train.shape)\n",
        "print(y_test.shape)\n",
        "print(X_val.shape)\n",
        "print(y_val.shape)"
      ],
      "metadata": {
        "execution": {
          "iopub.status.busy": "2022-06-22T04:31:31.29668Z",
          "iopub.execute_input": "2022-06-22T04:31:31.297761Z",
          "iopub.status.idle": "2022-06-22T04:31:31.303134Z",
          "shell.execute_reply.started": "2022-06-22T04:31:31.297729Z",
          "shell.execute_reply": "2022-06-22T04:31:31.302234Z"
        },
        "trusted": true,
        "id": "rfUdCcmtF08k"
      },
      "execution_count": null,
      "outputs": []
    },
    {
      "cell_type": "code",
      "source": [
        "# building tokenizer to form a token for each word in each transcription\n",
        "\n",
        "from tensorflow.keras.preprocessing.text import Tokenizer\n",
        "from tensorflow.keras.preprocessing.sequence import pad_sequences\n",
        "from tensorflow.keras.layers import Embedding"
      ],
      "metadata": {
        "execution": {
          "iopub.status.busy": "2022-06-22T04:31:35.150427Z",
          "iopub.execute_input": "2022-06-22T04:31:35.150805Z",
          "iopub.status.idle": "2022-06-22T04:31:35.157116Z",
          "shell.execute_reply.started": "2022-06-22T04:31:35.150776Z",
          "shell.execute_reply": "2022-06-22T04:31:35.156275Z"
        },
        "trusted": true,
        "id": "57KsSqBcF08k"
      },
      "execution_count": null,
      "outputs": []
    },
    {
      "cell_type": "code",
      "source": [
        "#Convert words to integers\n",
        "\n",
        "top_words = 10000 #reducing no of words to increase the processing speed\n",
        "\n",
        "tokenizer = Tokenizer(num_words=top_words)\n",
        "tokenizer.fit_on_texts(X_train)"
      ],
      "metadata": {
        "execution": {
          "iopub.status.busy": "2022-06-22T04:31:38.118719Z",
          "iopub.execute_input": "2022-06-22T04:31:38.119093Z",
          "iopub.status.idle": "2022-06-22T04:31:39.725044Z",
          "shell.execute_reply.started": "2022-06-22T04:31:38.119063Z",
          "shell.execute_reply": "2022-06-22T04:31:39.724532Z"
        },
        "trusted": true,
        "id": "Vq2ni5o4F08k"
      },
      "execution_count": null,
      "outputs": []
    },
    {
      "cell_type": "code",
      "source": [
        "X_train = tokenizer.texts_to_sequences(X_train)\n",
        "X_test = tokenizer.texts_to_sequences(X_test)"
      ],
      "metadata": {
        "execution": {
          "iopub.status.busy": "2022-06-22T04:31:47.746618Z",
          "iopub.execute_input": "2022-06-22T04:31:47.746933Z",
          "iopub.status.idle": "2022-06-22T04:31:50.637174Z",
          "shell.execute_reply.started": "2022-06-22T04:31:47.746911Z",
          "shell.execute_reply": "2022-06-22T04:31:50.636566Z"
        },
        "trusted": true,
        "id": "5zejnfcJF08k"
      },
      "execution_count": null,
      "outputs": []
    },
    {
      "cell_type": "code",
      "source": [
        "# pad sequenc to mmake each transcription of the same size\n",
        "#taking 300  based on avg length of the transcription form histogram\n",
        "padding_max_len = 300\n",
        "\n",
        "X_train = pad_sequences(X_train, maxlen=padding_max_len, padding='post')\n",
        "X_test = pad_sequences(X_test, maxlen=padding_max_len, padding='post')"
      ],
      "metadata": {
        "execution": {
          "iopub.status.busy": "2022-06-22T04:31:54.756083Z",
          "iopub.execute_input": "2022-06-22T04:31:54.756474Z",
          "iopub.status.idle": "2022-06-22T04:31:55.097062Z",
          "shell.execute_reply.started": "2022-06-22T04:31:54.756445Z",
          "shell.execute_reply": "2022-06-22T04:31:55.096266Z"
        },
        "trusted": true,
        "id": "LBfGyLLnF08l"
      },
      "execution_count": null,
      "outputs": []
    },
    {
      "cell_type": "code",
      "source": [
        "# Building embedding matrix from above Word2Vec model(pre trained model)\n",
        "\n",
        "word2vec_model = Word2Vec.load(\"word2vec_Medical Specialty Classification\")  #loading the one created above"
      ],
      "metadata": {
        "execution": {
          "iopub.status.busy": "2022-06-22T04:31:58.668955Z",
          "iopub.execute_input": "2022-06-22T04:31:58.669327Z",
          "iopub.status.idle": "2022-06-22T04:31:58.890666Z",
          "shell.execute_reply.started": "2022-06-22T04:31:58.669298Z",
          "shell.execute_reply": "2022-06-22T04:31:58.890128Z"
        },
        "trusted": true,
        "id": "nd_9HVrrF08l"
      },
      "execution_count": null,
      "outputs": []
    },
    {
      "cell_type": "code",
      "source": [
        "\n",
        "word2vec_model.wv.vectors.shape"
      ],
      "metadata": {
        "execution": {
          "iopub.status.busy": "2022-06-22T04:32:01.884267Z",
          "iopub.execute_input": "2022-06-22T04:32:01.884595Z",
          "iopub.status.idle": "2022-06-22T04:32:01.89069Z",
          "shell.execute_reply.started": "2022-06-22T04:32:01.884568Z",
          "shell.execute_reply": "2022-06-22T04:32:01.889751Z"
        },
        "trusted": true,
        "id": "DBuTlDJcF08l"
      },
      "execution_count": null,
      "outputs": []
    },
    {
      "cell_type": "code",
      "source": [
        "#embedding length\n",
        "embedding_vector_length = word2vec_model.wv.vectors.shape[1]\n",
        "embedding_vector_length"
      ],
      "metadata": {
        "execution": {
          "iopub.status.busy": "2022-06-22T04:32:07.554989Z",
          "iopub.execute_input": "2022-06-22T04:32:07.555409Z",
          "iopub.status.idle": "2022-06-22T04:32:07.561738Z",
          "shell.execute_reply.started": "2022-06-22T04:32:07.555377Z",
          "shell.execute_reply": "2022-06-22T04:32:07.560961Z"
        },
        "trusted": true,
        "id": "aqjv2rO7F08l"
      },
      "execution_count": null,
      "outputs": []
    },
    {
      "cell_type": "markdown",
      "source": [
        "## building embedding matrix"
      ],
      "metadata": {
        "id": "8bI7b9kOF08l"
      }
    },
    {
      "cell_type": "code",
      "source": [
        "# building embedding matrix\n",
        "#initailiazing matrix to all zeros\n",
        "\n",
        "embedding_matrix = np.zeros((top_words+1, embedding_vector_length))\n",
        "\n",
        "tokenizer.word_index.items()\n",
        "\n",
        "for word,i in sorted(tokenizer.word_index.items(), key = lambda x:x[1]):\n",
        "  if i > top_words:\n",
        "    break\n",
        "  if word in word2vec_model.wv.index_to_key:\n",
        "    #print(word)\n",
        "    embedding_vector = word2vec_model.wv[word]\n",
        "    #print(embedding_vector)\n",
        "    embedding_matrix[i] = embedding_vector\n",
        "    #print(embedding_matrix[i])"
      ],
      "metadata": {
        "execution": {
          "iopub.status.busy": "2022-06-22T04:34:33.179574Z",
          "iopub.execute_input": "2022-06-22T04:34:33.179882Z",
          "iopub.status.idle": "2022-06-22T04:34:33.918918Z",
          "shell.execute_reply.started": "2022-06-22T04:34:33.179854Z",
          "shell.execute_reply": "2022-06-22T04:34:33.918107Z"
        },
        "trusted": true,
        "id": "Bt1CJrEiF08l"
      },
      "execution_count": null,
      "outputs": []
    },
    {
      "cell_type": "code",
      "source": [
        "embedding_matrix[tokenizer.word_index['procedure']]"
      ],
      "metadata": {
        "execution": {
          "iopub.status.busy": "2022-06-22T04:34:37.491586Z",
          "iopub.execute_input": "2022-06-22T04:34:37.492443Z",
          "iopub.status.idle": "2022-06-22T04:34:37.498997Z",
          "shell.execute_reply.started": "2022-06-22T04:34:37.492412Z",
          "shell.execute_reply": "2022-06-22T04:34:37.498164Z"
        },
        "trusted": true,
        "id": "92wMSFc5F08m"
      },
      "execution_count": null,
      "outputs": []
    },
    {
      "cell_type": "markdown",
      "source": [
        "##  Create an embedding layer"
      ],
      "metadata": {
        "id": "qYAM1k-2F08m"
      }
    },
    {
      "cell_type": "code",
      "source": [
        "# Create an embedding layer\n",
        "#Output from Embedding is 3 dimension\n",
        "#batch_size x max_review_length x embedding_vector_length\n",
        "\n",
        "embedding_layer = Embedding(top_words+1, embedding_vector_length, weights=[embedding_matrix],\n",
        "                             input_length=padding_max_len,trainable=False)\n"
      ],
      "metadata": {
        "execution": {
          "iopub.status.busy": "2022-06-22T04:34:42.029459Z",
          "iopub.execute_input": "2022-06-22T04:34:42.029971Z",
          "iopub.status.idle": "2022-06-22T04:34:42.061712Z",
          "shell.execute_reply.started": "2022-06-22T04:34:42.029947Z",
          "shell.execute_reply": "2022-06-22T04:34:42.061171Z"
        },
        "trusted": true,
        "id": "0Jued0RNF08m"
      },
      "execution_count": null,
      "outputs": []
    },
    {
      "cell_type": "markdown",
      "source": [
        "## Using LSTM"
      ],
      "metadata": {
        "id": "FEohm0wuF08m"
      }
    },
    {
      "cell_type": "code",
      "source": [
        "# Using LSTM\n",
        "\n",
        "from tensorflow.keras.models import Sequential\n",
        "from tensorflow.keras.layers import Dense,Dropout,Activation,BatchNormalization,Embedding,LSTM ,Bidirectional\n",
        "from tensorflow.keras import regularizers"
      ],
      "metadata": {
        "execution": {
          "iopub.status.busy": "2022-06-22T04:34:44.878025Z",
          "iopub.execute_input": "2022-06-22T04:34:44.878352Z",
          "iopub.status.idle": "2022-06-22T04:34:44.88417Z",
          "shell.execute_reply.started": "2022-06-22T04:34:44.878321Z",
          "shell.execute_reply": "2022-06-22T04:34:44.883351Z"
        },
        "trusted": true,
        "id": "LG-0fV1LF08m"
      },
      "execution_count": null,
      "outputs": []
    },
    {
      "cell_type": "markdown",
      "source": [
        "## Model 1"
      ],
      "metadata": {
        "id": "rxu1cHu5F08m"
      }
    },
    {
      "cell_type": "code",
      "source": [
        "model1 = Sequential()\n",
        "\n",
        "model1.add(embedding_layer)\n",
        "\n",
        "#LSTM\n",
        "model1.add(LSTM(32))\n",
        "\n",
        "#dense layer\n",
        "model1.add(Dense(units=21,activation='softmax'))\n",
        "\n",
        "model1.compile(optimizer='adam',loss='categorical_crossentropy', metrics=['accuracy'])\n",
        "print(model1.summary())\n"
      ],
      "metadata": {
        "execution": {
          "iopub.status.busy": "2022-06-22T04:34:47.76741Z",
          "iopub.execute_input": "2022-06-22T04:34:47.767707Z",
          "iopub.status.idle": "2022-06-22T04:34:48.175772Z",
          "shell.execute_reply.started": "2022-06-22T04:34:47.767684Z",
          "shell.execute_reply": "2022-06-22T04:34:48.174899Z"
        },
        "trusted": true,
        "id": "6dDDMCfnF08m"
      },
      "execution_count": null,
      "outputs": []
    },
    {
      "cell_type": "code",
      "source": [
        "model_history = model1.fit(X_train, y_train, batch_size=200, epochs=30, validation_data=(X_test, y_test))"
      ],
      "metadata": {
        "scrolled": true,
        "execution": {
          "iopub.status.busy": "2022-06-22T04:34:51.850707Z",
          "iopub.execute_input": "2022-06-22T04:34:51.851053Z",
          "iopub.status.idle": "2022-06-22T04:43:33.637021Z",
          "shell.execute_reply.started": "2022-06-22T04:34:51.851027Z",
          "shell.execute_reply": "2022-06-22T04:43:33.636495Z"
        },
        "trusted": true,
        "id": "nw_n16YgF08m"
      },
      "execution_count": null,
      "outputs": []
    },
    {
      "cell_type": "code",
      "source": [
        "from matplotlib import pyplot as plt\n",
        "# visualise training history\n",
        "plt.plot(model_history.history['accuracy'])\n",
        "plt.plot(model_history.history['val_accuracy'])\n",
        "plt.title('model accuracy')\n",
        "plt.ylabel('accuracy')\n",
        "plt.xlabel('epoch')\n",
        "plt.legend(['train', 'test'], loc=\"lower right\")\n",
        "plt.show()"
      ],
      "metadata": {
        "execution": {
          "iopub.status.busy": "2022-06-22T04:43:33.638081Z",
          "iopub.execute_input": "2022-06-22T04:43:33.638389Z",
          "iopub.status.idle": "2022-06-22T04:43:33.748055Z",
          "shell.execute_reply.started": "2022-06-22T04:43:33.638367Z",
          "shell.execute_reply": "2022-06-22T04:43:33.747132Z"
        },
        "trusted": true,
        "id": "PPtNqWV8F08m"
      },
      "execution_count": null,
      "outputs": []
    },
    {
      "cell_type": "markdown",
      "source": [
        "## Model 2"
      ],
      "metadata": {
        "id": "ubdS_SLeF08n"
      }
    },
    {
      "cell_type": "code",
      "source": [
        "model4 = Sequential()\n",
        "\n",
        "model4.add(embedding_layer)\n",
        "\n",
        "model4.add(Bidirectional(LSTM(64)))\n",
        "\n",
        "model4.add(Dense(units=21,activation='softmax'))\n",
        "\n",
        "model4.compile(optimizer='adam',loss='categorical_crossentropy', metrics=['accuracy'])\n",
        "print(model4.summary())\n"
      ],
      "metadata": {
        "execution": {
          "iopub.status.busy": "2022-06-22T04:44:54.903147Z",
          "iopub.execute_input": "2022-06-22T04:44:54.903535Z",
          "iopub.status.idle": "2022-06-22T04:44:55.260479Z",
          "shell.execute_reply.started": "2022-06-22T04:44:54.90351Z",
          "shell.execute_reply": "2022-06-22T04:44:55.259613Z"
        },
        "trusted": true,
        "id": "b3nxyXNrF08n"
      },
      "execution_count": null,
      "outputs": []
    },
    {
      "cell_type": "code",
      "source": [
        "model_history = model4.fit(X_train, y_train, batch_size=100, epochs=10, validation_data=(X_test, y_test))"
      ],
      "metadata": {
        "execution": {
          "iopub.status.busy": "2022-06-22T04:44:58.105385Z",
          "iopub.execute_input": "2022-06-22T04:44:58.105685Z",
          "iopub.status.idle": "2022-06-22T04:55:45.562633Z",
          "shell.execute_reply.started": "2022-06-22T04:44:58.105663Z",
          "shell.execute_reply": "2022-06-22T04:55:45.561516Z"
        },
        "trusted": true,
        "id": "H3qsX6ppF08n"
      },
      "execution_count": null,
      "outputs": []
    },
    {
      "cell_type": "code",
      "source": [
        "from matplotlib import pyplot as plt\n",
        "# visualise training history\n",
        "plt.plot(model_history.history['accuracy'])\n",
        "plt.plot(model_history.history['val_accuracy'])\n",
        "plt.title('model accuracy')\n",
        "plt.ylabel('accuracy')\n",
        "plt.xlabel('epoch')\n",
        "plt.legend(['train', 'test'], loc=\"lower right\")\n",
        "plt.show()"
      ],
      "metadata": {
        "execution": {
          "iopub.status.busy": "2022-06-22T04:56:17.496586Z",
          "iopub.execute_input": "2022-06-22T04:56:17.496905Z",
          "iopub.status.idle": "2022-06-22T04:56:17.642762Z",
          "shell.execute_reply.started": "2022-06-22T04:56:17.496882Z",
          "shell.execute_reply": "2022-06-22T04:56:17.641408Z"
        },
        "trusted": true,
        "id": "BPduruONF08n"
      },
      "execution_count": null,
      "outputs": []
    },
    {
      "cell_type": "code",
      "source": [
        "plt.plot(model_history.history['loss'])\n",
        "plt.plot(model_history.history['val_loss'])\n",
        "plt.title('model loss')\n",
        "plt.ylabel('loss')\n",
        "plt.xlabel('epoch')\n",
        "plt.legend(['train', 'test'], loc=\"lower right\")\n",
        "plt.show()\n"
      ],
      "metadata": {
        "execution": {
          "iopub.status.busy": "2022-06-22T04:56:33.24751Z",
          "iopub.execute_input": "2022-06-22T04:56:33.247815Z",
          "iopub.status.idle": "2022-06-22T04:56:33.961236Z",
          "shell.execute_reply.started": "2022-06-22T04:56:33.247792Z",
          "shell.execute_reply": "2022-06-22T04:56:33.960662Z"
        },
        "trusted": true,
        "id": "hpeyx1bWF08n"
      },
      "execution_count": null,
      "outputs": []
    },
    {
      "cell_type": "markdown",
      "source": [
        "## Model 3"
      ],
      "metadata": {
        "id": "emd842Y3F08n"
      }
    },
    {
      "cell_type": "code",
      "source": [
        "#improving above overfitted model:\n",
        "\n",
        "model4_1 = Sequential()\n",
        "\n",
        "model4_1.add(embedding_layer)\n",
        "\n",
        "model4_1.add(Bidirectional(LSTM(32)))\n",
        "\n",
        "model4_1.add(Dense(units=21,activation='softmax'))\n",
        "\n",
        "model4_1.compile(optimizer='adam',loss='categorical_crossentropy', metrics=['accuracy'])\n",
        "print(model4_1.summary())\n"
      ],
      "metadata": {
        "execution": {
          "iopub.status.busy": "2022-06-22T04:56:41.052348Z",
          "iopub.execute_input": "2022-06-22T04:56:41.052706Z",
          "iopub.status.idle": "2022-06-22T04:56:41.41301Z",
          "shell.execute_reply.started": "2022-06-22T04:56:41.052677Z",
          "shell.execute_reply": "2022-06-22T04:56:41.412132Z"
        },
        "trusted": true,
        "id": "Mp48QgDCF08o"
      },
      "execution_count": null,
      "outputs": []
    },
    {
      "cell_type": "code",
      "source": [
        "model_history = model4_1.fit(X_train, y_train, batch_size=100, epochs=8, validation_data=(X_test, y_test))"
      ],
      "metadata": {
        "execution": {
          "iopub.status.busy": "2022-06-22T04:56:45.548058Z",
          "iopub.execute_input": "2022-06-22T04:56:45.548524Z",
          "iopub.status.idle": "2022-06-22T05:03:22.763958Z",
          "shell.execute_reply.started": "2022-06-22T04:56:45.548501Z",
          "shell.execute_reply": "2022-06-22T05:03:22.763039Z"
        },
        "trusted": true,
        "id": "Vi064XBcF08o"
      },
      "execution_count": null,
      "outputs": []
    },
    {
      "cell_type": "code",
      "source": [
        "from matplotlib import pyplot as plt\n",
        "# visualise training history\n",
        "plt.plot(model_history.history['accuracy'])\n",
        "plt.plot(model_history.history['val_accuracy'])\n",
        "plt.title('model accuracy')\n",
        "plt.ylabel('accuracy')\n",
        "plt.xlabel('epoch')\n",
        "plt.legend(['train', 'test'], loc=\"lower right\")\n",
        "plt.show()"
      ],
      "metadata": {
        "execution": {
          "iopub.status.busy": "2022-06-22T05:03:22.76527Z",
          "iopub.execute_input": "2022-06-22T05:03:22.766291Z",
          "iopub.status.idle": "2022-06-22T05:03:22.924806Z",
          "shell.execute_reply.started": "2022-06-22T05:03:22.766258Z",
          "shell.execute_reply": "2022-06-22T05:03:22.924231Z"
        },
        "trusted": true,
        "id": "yU9OxgpjF08o"
      },
      "execution_count": null,
      "outputs": []
    },
    {
      "cell_type": "code",
      "source": [
        "plt.plot(model_history.history['loss'])\n",
        "plt.plot(model_history.history['val_loss'])\n",
        "plt.title('model loss')\n",
        "plt.ylabel('loss')\n",
        "plt.xlabel('epoch')\n",
        "plt.legend(['train', 'test'], loc=\"lower right\")\n",
        "plt.show()"
      ],
      "metadata": {
        "execution": {
          "iopub.status.busy": "2022-06-22T05:03:22.92597Z",
          "iopub.execute_input": "2022-06-22T05:03:22.926392Z",
          "iopub.status.idle": "2022-06-22T05:03:23.096462Z",
          "shell.execute_reply.started": "2022-06-22T05:03:22.926365Z",
          "shell.execute_reply": "2022-06-22T05:03:23.095515Z"
        },
        "trusted": true,
        "id": "vjttiiXxF08o"
      },
      "execution_count": null,
      "outputs": []
    },
    {
      "cell_type": "markdown",
      "source": [
        "## model 4"
      ],
      "metadata": {
        "id": "gS54qqicF08o"
      }
    },
    {
      "cell_type": "code",
      "source": [
        "#improving above overfitted model:\n",
        "\n",
        "model4_2 = Sequential()\n",
        "\n",
        "model4_2.add(embedding_layer)\n",
        "\n",
        "model4_2.add(Bidirectional(LSTM(32 , dropout=0.1, recurrent_dropout=0.1)))\n",
        "\n",
        "model4_2.add(Dense(units=21,activation='softmax'))\n",
        "\n",
        "model4_2.compile(optimizer='adam',loss='categorical_crossentropy', metrics=['accuracy'])\n",
        "print(model4_2.summary())\n"
      ],
      "metadata": {
        "execution": {
          "iopub.status.busy": "2022-06-22T05:03:23.098361Z",
          "iopub.execute_input": "2022-06-22T05:03:23.098636Z",
          "iopub.status.idle": "2022-06-22T05:03:23.279905Z",
          "shell.execute_reply.started": "2022-06-22T05:03:23.09861Z",
          "shell.execute_reply": "2022-06-22T05:03:23.279057Z"
        },
        "trusted": true,
        "id": "RKerWV94F08o"
      },
      "execution_count": null,
      "outputs": []
    },
    {
      "cell_type": "code",
      "source": [
        "model_history = model4_2.fit(X_train, y_train, batch_size=100, epochs=10, validation_data=(X_test, y_test))"
      ],
      "metadata": {
        "execution": {
          "iopub.status.busy": "2022-06-22T05:03:23.280733Z",
          "iopub.execute_input": "2022-06-22T05:03:23.280947Z",
          "iopub.status.idle": "2022-06-22T05:37:03.119665Z",
          "shell.execute_reply.started": "2022-06-22T05:03:23.280926Z",
          "shell.execute_reply": "2022-06-22T05:37:03.118373Z"
        },
        "trusted": true,
        "id": "ChhTbQxjF08p"
      },
      "execution_count": null,
      "outputs": []
    },
    {
      "cell_type": "code",
      "source": [
        "from matplotlib import pyplot as plt\n",
        "# visualise training history\n",
        "plt.plot(model_history.history['accuracy'])\n",
        "plt.plot(model_history.history['val_accuracy'])\n",
        "plt.title('model accuracy')\n",
        "plt.ylabel('accuracy')\n",
        "plt.xlabel('epoch')\n",
        "plt.legend(['train', 'test'], loc=\"lower right\")\n",
        "plt.show()"
      ],
      "metadata": {
        "execution": {
          "iopub.status.busy": "2022-06-22T05:37:03.121941Z",
          "iopub.execute_input": "2022-06-22T05:37:03.122297Z",
          "iopub.status.idle": "2022-06-22T05:37:03.287996Z",
          "shell.execute_reply.started": "2022-06-22T05:37:03.122265Z",
          "shell.execute_reply": "2022-06-22T05:37:03.287177Z"
        },
        "trusted": true,
        "id": "f8d4Hr5sF08p"
      },
      "execution_count": null,
      "outputs": []
    },
    {
      "cell_type": "code",
      "source": [
        "plt.plot(model_history.history['loss'])\n",
        "plt.plot(model_history.history['val_loss'])\n",
        "plt.title('model loss')\n",
        "plt.ylabel('loss')\n",
        "plt.xlabel('epoch')\n",
        "plt.legend(['train', 'test'], loc=\"lower right\")\n",
        "plt.show()\n",
        "\n"
      ],
      "metadata": {
        "execution": {
          "iopub.status.busy": "2022-06-22T05:37:03.288971Z",
          "iopub.execute_input": "2022-06-22T05:37:03.289269Z",
          "iopub.status.idle": "2022-06-22T05:37:03.444168Z",
          "shell.execute_reply.started": "2022-06-22T05:37:03.289234Z",
          "shell.execute_reply": "2022-06-22T05:37:03.443242Z"
        },
        "trusted": true,
        "id": "1CG2TSALF08p"
      },
      "execution_count": null,
      "outputs": []
    }
  ]
}